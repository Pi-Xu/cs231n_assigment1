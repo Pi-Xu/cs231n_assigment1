{
 "cells": [
  {
   "cell_type": "markdown",
   "source": [
    "# Softmax exercise\n",
    "\n",
    "*Complete and hand in this completed worksheet (including its outputs and any supporting code outside of the worksheet) with your assignment submission. For more details see the [assignments page](http://vision.stanford.edu/teaching/cs231n/assignments.html) on the course website.*\n",
    "\n",
    "This exercise is analogous to the SVM exercise. You will:\n",
    "\n",
    "- implement a fully-vectorized **loss function** for the Softmax classifier\n",
    "- implement the fully-vectorized expression for its **analytic gradient**\n",
    "- **check your implementation** with numerical gradient\n",
    "- use a validation set to **tune the learning rate and regularization** strength\n",
    "- **optimize** the loss function with **SGD**\n",
    "- **visualize** the final learned weights\n"
   ],
   "metadata": {
    "tags": [
     "pdf-title"
    ]
   }
  },
  {
   "cell_type": "code",
   "execution_count": 1,
   "source": [
    "import random\r\n",
    "import numpy as np\r\n",
    "from cs231n.data_utils import load_CIFAR10\r\n",
    "import matplotlib.pyplot as plt\r\n",
    "\r\n",
    "%matplotlib inline\r\n",
    "plt.rcParams['figure.figsize'] = (10.0, 8.0) # set default size of plots\r\n",
    "plt.rcParams['image.interpolation'] = 'nearest'\r\n",
    "plt.rcParams['image.cmap'] = 'gray'\r\n",
    "\r\n",
    "# for auto-reloading extenrnal modules\r\n",
    "# see http://stackoverflow.com/questions/1907993/autoreload-of-modules-in-ipython\r\n",
    "%load_ext autoreload\r\n",
    "%autoreload 2"
   ],
   "outputs": [],
   "metadata": {
    "tags": [
     "pdf-ignore"
    ]
   }
  },
  {
   "cell_type": "code",
   "execution_count": 2,
   "source": [
    "def get_CIFAR10_data(num_training=49000, num_validation=1000, num_test=1000, num_dev=500):\r\n",
    "    \"\"\"\r\n",
    "    Load the CIFAR-10 dataset from disk and perform preprocessing to prepare\r\n",
    "    it for the linear classifier. These are the same steps as we used for the\r\n",
    "    SVM, but condensed to a single function.  \r\n",
    "    \"\"\"\r\n",
    "    # Load the raw CIFAR-10 data\r\n",
    "    cifar10_dir = 'cs231n/datasets/cifar-10-batches-py'\r\n",
    "    \r\n",
    "    # Cleaning up variables to prevent loading data multiple times (which may cause memory issue)\r\n",
    "    try:\r\n",
    "       del X_train, y_train\r\n",
    "       del X_test, y_test\r\n",
    "       print('Clear previously loaded data.')\r\n",
    "    except:\r\n",
    "       pass\r\n",
    "\r\n",
    "    X_train, y_train, X_test, y_test = load_CIFAR10(cifar10_dir)\r\n",
    "    \r\n",
    "    # subsample the data\r\n",
    "    mask = list(range(num_training, num_training + num_validation))\r\n",
    "    X_val = X_train[mask]\r\n",
    "    y_val = y_train[mask]\r\n",
    "    mask = list(range(num_training))\r\n",
    "    X_train = X_train[mask]\r\n",
    "    y_train = y_train[mask]\r\n",
    "    mask = list(range(num_test))\r\n",
    "    X_test = X_test[mask]\r\n",
    "    y_test = y_test[mask]\r\n",
    "    mask = np.random.choice(num_training, num_dev, replace=False)\r\n",
    "    X_dev = X_train[mask]\r\n",
    "    y_dev = y_train[mask]\r\n",
    "    \r\n",
    "    # Preprocessing: reshape the image data into rows\r\n",
    "    X_train = np.reshape(X_train, (X_train.shape[0], -1))\r\n",
    "    X_val = np.reshape(X_val, (X_val.shape[0], -1))\r\n",
    "    X_test = np.reshape(X_test, (X_test.shape[0], -1))\r\n",
    "    X_dev = np.reshape(X_dev, (X_dev.shape[0], -1))\r\n",
    "    \r\n",
    "    # Normalize the data: subtract the mean image\r\n",
    "    mean_image = np.mean(X_train, axis = 0)\r\n",
    "    X_train -= mean_image\r\n",
    "    X_val -= mean_image\r\n",
    "    X_test -= mean_image\r\n",
    "    X_dev -= mean_image\r\n",
    "    \r\n",
    "    # add bias dimension and transform into columns\r\n",
    "    X_train = np.hstack([X_train, np.ones((X_train.shape[0], 1))])\r\n",
    "    X_val = np.hstack([X_val, np.ones((X_val.shape[0], 1))])\r\n",
    "    X_test = np.hstack([X_test, np.ones((X_test.shape[0], 1))])\r\n",
    "    X_dev = np.hstack([X_dev, np.ones((X_dev.shape[0], 1))])\r\n",
    "    \r\n",
    "    return X_train, y_train, X_val, y_val, X_test, y_test, X_dev, y_dev\r\n",
    "\r\n",
    "\r\n",
    "# Invoke the above function to get our data.\r\n",
    "X_train, y_train, X_val, y_val, X_test, y_test, X_dev, y_dev = get_CIFAR10_data()\r\n",
    "print('Train data shape: ', X_train.shape)\r\n",
    "print('Train labels shape: ', y_train.shape)\r\n",
    "print('Validation data shape: ', X_val.shape)\r\n",
    "print('Validation labels shape: ', y_val.shape)\r\n",
    "print('Test data shape: ', X_test.shape)\r\n",
    "print('Test labels shape: ', y_test.shape)\r\n",
    "print('dev data shape: ', X_dev.shape)\r\n",
    "print('dev labels shape: ', y_dev.shape)"
   ],
   "outputs": [
    {
     "output_type": "stream",
     "name": "stdout",
     "text": [
      "Train data shape:  (49000, 3073)\n",
      "Train labels shape:  (49000,)\n",
      "Validation data shape:  (1000, 3073)\n",
      "Validation labels shape:  (1000,)\n",
      "Test data shape:  (1000, 3073)\n",
      "Test labels shape:  (1000,)\n",
      "dev data shape:  (500, 3073)\n",
      "dev labels shape:  (500,)\n"
     ]
    }
   ],
   "metadata": {
    "tags": [
     "pdf-ignore"
    ]
   }
  },
  {
   "cell_type": "markdown",
   "source": [
    "## Softmax Classifier\n",
    "\n",
    "Your code for this section will all be written inside `cs231n/classifiers/softmax.py`.\n"
   ],
   "metadata": {}
  },
  {
   "cell_type": "code",
   "execution_count": 3,
   "source": [
    "# First implement the naive softmax loss function with nested loops.\r\n",
    "# Open the file cs231n/classifiers/softmax.py and implement the\r\n",
    "# softmax_loss_naive function.\r\n",
    "\r\n",
    "from cs231n.classifiers.softmax import softmax_loss_naive\r\n",
    "import time\r\n",
    "\r\n",
    "# Generate a random softmax weight matrix and use it to compute the loss.\r\n",
    "W = np.random.randn(3073, 10) * 0.0001\r\n",
    "loss, grad = softmax_loss_naive(W, X_dev, y_dev, 0.0)\r\n",
    "\r\n",
    "# As a rough sanity check, our loss should be something close to -log(0.1).\r\n",
    "print('loss: %f' % loss)\r\n",
    "print('sanity check: %f' % (-np.log(0.1)))"
   ],
   "outputs": [
    {
     "output_type": "stream",
     "name": "stdout",
     "text": [
      "loss: 2.402322\n",
      "sanity check: 2.302585\n"
     ]
    }
   ],
   "metadata": {}
  },
  {
   "cell_type": "markdown",
   "source": [
    "**Inline Question 1**\r\n",
    "\r\n",
    "Why do we expect our loss to be close to -log(0.1)? **Explain briefly.**\r\n",
    "\r\n",
    "$\\color{blue}{\\textit Your Answer:}$ *Fill this in* \r\n",
    "\r\n",
    "\r\n",
    "在最开始的时候, 生成的W的值很小(几乎为0), 所以最开始的时候`softmax分类器`并不生效, 所以每一类出现的概率为0.1, 故而: $\\frac{e^{f_{y_i}}}{\\sum_j e^{f_j}} = 0.1$\r\n"
   ],
   "metadata": {
    "tags": [
     "pdf-inline"
    ]
   }
  },
  {
   "cell_type": "code",
   "execution_count": 4,
   "source": [
    "# Complete the implementation of softmax_loss_naive and implement a (naive)\r\n",
    "# version of the gradient that uses nested loops.\r\n",
    "loss, grad = softmax_loss_naive(W, X_dev, y_dev, 0.0)\r\n",
    "\r\n",
    "# As we did for the SVM, use numeric gradient checking as a debugging tool.\r\n",
    "# The numeric gradient should be close to the analytic gradient.\r\n",
    "from cs231n.gradient_check import grad_check_sparse\r\n",
    "f = lambda w: softmax_loss_naive(w, X_dev, y_dev, 0.0)[0]\r\n",
    "grad_numerical = grad_check_sparse(f, W, grad, 10)\r\n",
    "\r\n",
    "# similar to SVM case, do another gradient check with regularization\r\n",
    "loss, grad = softmax_loss_naive(W, X_dev, y_dev, 5e1)\r\n",
    "f = lambda w: softmax_loss_naive(w, X_dev, y_dev, 5e1)[0]\r\n",
    "grad_numerical = grad_check_sparse(f, W, grad, 10)"
   ],
   "outputs": [
    {
     "output_type": "stream",
     "name": "stdout",
     "text": [
      "numerical: -2.082072 analytic: -2.082072, relative error: 3.255495e-08\n",
      "numerical: -2.311834 analytic: -2.311834, relative error: 1.951680e-08\n",
      "numerical: 1.223294 analytic: 1.223294, relative error: 4.473523e-08\n",
      "numerical: 3.807188 analytic: 3.807188, relative error: 9.152749e-09\n",
      "numerical: 0.245027 analytic: 0.245027, relative error: 7.754684e-08\n",
      "numerical: -0.367818 analytic: -0.367818, relative error: 7.647002e-08\n",
      "numerical: 1.049121 analytic: 1.049121, relative error: 3.204741e-08\n",
      "numerical: 2.086494 analytic: 2.086493, relative error: 2.218886e-08\n",
      "numerical: -0.285377 analytic: -0.285377, relative error: 7.225144e-08\n",
      "numerical: -0.587283 analytic: -0.587283, relative error: 3.913706e-08\n",
      "numerical: 1.040222 analytic: 1.040222, relative error: 3.242231e-08\n",
      "numerical: -1.459510 analytic: -1.459511, relative error: 4.095325e-08\n",
      "numerical: -1.835087 analytic: -1.835087, relative error: 1.019587e-09\n",
      "numerical: -0.140026 analytic: -0.140026, relative error: 1.215237e-07\n",
      "numerical: 2.006354 analytic: 2.006354, relative error: 4.252220e-08\n",
      "numerical: 0.048518 analytic: 0.048518, relative error: 5.508324e-07\n",
      "numerical: -0.547299 analytic: -0.547299, relative error: 5.837908e-08\n",
      "numerical: -1.770951 analytic: -1.770951, relative error: 3.383242e-08\n",
      "numerical: -2.211369 analytic: -2.211369, relative error: 1.450849e-08\n",
      "numerical: -0.219575 analytic: -0.219575, relative error: 7.319877e-08\n"
     ]
    }
   ],
   "metadata": {}
  },
  {
   "cell_type": "code",
   "execution_count": 42,
   "source": [
    "# Now that we have a naive implementation of the softmax loss function and its gradient,\r\n",
    "# implement a vectorized version in softmax_loss_vectorized.\r\n",
    "# The two versions should compute the same results, but the vectorized version should be\r\n",
    "# much faster.\r\n",
    "tic = time.time()\r\n",
    "loss_naive, grad_naive = softmax_loss_naive(W, X_dev, y_dev, 0.000005)\r\n",
    "toc = time.time()\r\n",
    "print('naive loss: %e computed in %fs' % (loss_naive, toc - tic))\r\n",
    "\r\n",
    "from cs231n.classifiers.softmax import softmax_loss_vectorized\r\n",
    "tic = time.time()\r\n",
    "loss_vectorized, grad_vectorized = softmax_loss_vectorized(W, X_dev, y_dev, 0.000005)\r\n",
    "toc = time.time()\r\n",
    "print('vectorized loss: %e computed in %fs' % (loss_vectorized, toc - tic))\r\n",
    "\r\n",
    "# As we did for the SVM, we use the Frobenius norm to compare the two versions\r\n",
    "# of the gradient.\r\n",
    "grad_difference = np.linalg.norm(grad_naive - grad_vectorized, ord='fro')\r\n",
    "print('Loss difference: %f' % np.abs(loss_naive - loss_vectorized))\r\n",
    "print('Gradient difference: %f' % grad_difference)"
   ],
   "outputs": [
    {
     "output_type": "stream",
     "name": "stdout",
     "text": [
      "naive loss: 2.402322e+00 computed in 0.156581s\n",
      "vectorized loss: 2.402322e+00 computed in 0.005984s\n",
      "Loss difference: 0.000000\n",
      "Gradient difference: 0.000000\n"
     ]
    }
   ],
   "metadata": {}
  },
  {
   "cell_type": "code",
   "execution_count": 48,
   "source": [
    "# Use the validation set to tune hyperparameters (regularization strength and\r\n",
    "# learning rate). You should experiment with different ranges for the learning\r\n",
    "# rates and regularization strengths; if you are careful you should be able to\r\n",
    "# get a classification accuracy of over 0.35 on the validation set.\r\n",
    "\r\n",
    "from cs231n.classifiers import Softmax\r\n",
    "results = {}\r\n",
    "best_val = -1\r\n",
    "best_softmax = None\r\n",
    "\r\n",
    "################################################################################\r\n",
    "# TODO:                                                                        #\r\n",
    "# Use the validation set to set the learning rate and regularization strength. #\r\n",
    "# This should be identical to the validation that you did for the SVM; save    #\r\n",
    "# the best trained softmax classifer in best_softmax.                          #\r\n",
    "################################################################################\r\n",
    "\r\n",
    "# Provided as a reference. You may or may not want to change these hyperparameters\r\n",
    "learning_rates = [1e-7, 5e-7]\r\n",
    "regularization_strengths = [2.5e3, 5e3, 7e3]\r\n",
    "\r\n",
    "# *****START OF YOUR CODE (DO NOT DELETE/MODIFY THIS LINE)*****\r\n",
    "\r\n",
    "for lr in learning_rates:\r\n",
    "    for reg in regularization_strengths:\r\n",
    "        softmax = Softmax()\r\n",
    "\r\n",
    "        softmax.train(X_train, y_train, lr, reg, 1500)\r\n",
    "        y_train_pred = softmax.predict(X_train)\r\n",
    "        y_val_pred = softmax.predict(X_val)\r\n",
    "        train_accuracy = np.mean(y_train == y_train_pred)\r\n",
    "        val_accuracy = np.mean(y_val_pred == y_val)\r\n",
    "\r\n",
    "        if val_accuracy > best_val:\r\n",
    "            best_val = val_accuracy\r\n",
    "            best_softmax = softmax\r\n",
    "        results[(lr, reg)] = train_accuracy, val_accuracy\r\n",
    "\r\n",
    "        pass\r\n",
    "# *****END OF YOUR CODE (DO NOT DELETE/MODIFY THIS LINE)*****\r\n",
    "    \r\n",
    "# Print out results.\r\n",
    "for lr, reg in sorted(results):\r\n",
    "    train_accuracy, val_accuracy = results[(lr, reg)]\r\n",
    "    print('lr %e reg %e train accuracy: %f val accuracy: %f' % (\r\n",
    "                lr, reg, train_accuracy, val_accuracy))\r\n",
    "    \r\n",
    "print('best validation accuracy achieved during cross-validation: %f' % best_val)"
   ],
   "outputs": [
    {
     "output_type": "stream",
     "name": "stdout",
     "text": [
      "lr 1.000000e-07 reg 2.500000e+03 train accuracy: 0.290327 val accuracy: 0.300000\n",
      "lr 1.000000e-07 reg 5.000000e+03 train accuracy: 0.333592 val accuracy: 0.343000\n",
      "lr 1.000000e-07 reg 7.000000e+03 train accuracy: 0.349184 val accuracy: 0.378000\n",
      "lr 5.000000e-07 reg 2.500000e+03 train accuracy: 0.388531 val accuracy: 0.386000\n",
      "lr 5.000000e-07 reg 5.000000e+03 train accuracy: 0.367653 val accuracy: 0.373000\n",
      "lr 5.000000e-07 reg 7.000000e+03 train accuracy: 0.362918 val accuracy: 0.375000\n",
      "best validation accuracy achieved during cross-validation: 0.386000\n"
     ]
    }
   ],
   "metadata": {
    "id": "tuning",
    "tags": [
     "code"
    ]
   }
  },
  {
   "cell_type": "code",
   "execution_count": 46,
   "source": [
    "# evaluate on test set\r\n",
    "# Evaluate the best softmax on test set\r\n",
    "y_test_pred = best_softmax.predict(X_test)\r\n",
    "test_accuracy = np.mean(y_test == y_test_pred)\r\n",
    "print('softmax on raw pixels final test set accuracy: %f' % (test_accuracy, ))"
   ],
   "outputs": [
    {
     "output_type": "stream",
     "name": "stdout",
     "text": [
      "softmax on raw pixels final test set accuracy: 0.343000\n"
     ]
    }
   ],
   "metadata": {
    "id": "test"
   }
  },
  {
   "cell_type": "markdown",
   "source": [
    "**Inline Question 2** - *True or False*\r\n",
    "\r\n",
    "Suppose the overall training loss is defined as the sum of the per-datapoint loss over all training examples. It is possible to add a new datapoint to a training set that would leave the SVM loss unchanged, but this is not the case with the Softmax classifier loss.\r\n",
    "\r\n",
    "$\\color{blue}{\\textit Your Answer:}$\r\n",
    "\r\n",
    "True\r\n",
    "\r\n",
    "$\\color{blue}{\\textit Your Explanation:}$\r\n",
    "\r\n",
    "由SVM的原理可以知道, 其主要通过给出其边界的方式对数据点进行分类(只有位于边界的点才会影响其分类), 如果新加入的数据点落入在边界之内, 也就是其$\\max(0, s_j-s_{y_i}+\\Delta) = 0$的情况, 则此时不会发生改变. 而softmax分类的边界由每个点给出, 新加入的点都会影响其最终参数的确定, 所以Softmax的会改变"
   ],
   "metadata": {
    "tags": [
     "pdf-inline"
    ]
   }
  },
  {
   "cell_type": "code",
   "execution_count": 47,
   "source": [
    "# Visualize the learned weights for each class\r\n",
    "w = best_softmax.W[:-1,:] # strip out the bias\r\n",
    "w = w.reshape(32, 32, 3, 10)\r\n",
    "\r\n",
    "w_min, w_max = np.min(w), np.max(w)\r\n",
    "\r\n",
    "classes = ['plane', 'car', 'bird', 'cat', 'deer', 'dog', 'frog', 'horse', 'ship', 'truck']\r\n",
    "for i in range(10):\r\n",
    "    plt.subplot(2, 5, i + 1)\r\n",
    "    \r\n",
    "    # Rescale the weights to be between 0 and 255\r\n",
    "    wimg = 255.0 * (w[:, :, :, i].squeeze() - w_min) / (w_max - w_min)\r\n",
    "    plt.imshow(wimg.astype('uint8'))\r\n",
    "    plt.axis('off')\r\n",
    "    plt.title(classes[i])"
   ],
   "outputs": [
    {
     "output_type": "display_data",
     "data": {
      "image/png": "[encoded data removed]",
      "text/plain": [
       "<Figure size 720x576 with 10 Axes>"
      ]
     },
     "metadata": {
      "needs_background": "light"
     }
    }
   ],
   "metadata": {}
  },
  {
   "cell_type": "code",
   "execution_count": null,
   "source": [],
   "outputs": [],
   "metadata": {}
  }
 ],
 "metadata": {
  "language_info": {
   "name": "python",
   "version": "3.7.0",
   "mimetype": "text/x-python",
   "codemirror_mode": {
    "name": "ipython",
    "version": 3
   },
   "pygments_lexer": "ipython3",
   "nbconvert_exporter": "python",
   "file_extension": ".py"
  },
  "kernelspec": {
   "name": "python3",
   "display_name": "Python 3.7.0 64-bit ('base': conda)"
  },
  "interpreter": {
   "hash": "d59b92a5f9bdcea563f9a2c491f707fbdea763ce0564d33fd44b6f2c9829ca9d"
  }
 },
 "nbformat": 4,
 "nbformat_minor": 4
}